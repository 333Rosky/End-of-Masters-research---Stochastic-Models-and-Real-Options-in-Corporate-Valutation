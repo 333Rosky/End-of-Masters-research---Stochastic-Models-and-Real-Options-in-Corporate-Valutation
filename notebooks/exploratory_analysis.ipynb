{
  "cells": [
    {
      "cell_type": "raw",
      "metadata": {
        "vscode": {
          "languageId": "raw"
        }
      },
      "source": [
        "# Exploratory Data Analysis - Stochastic Financial Modeling\n",
        "\n",
        "**Author**: Romain Bastiani\n",
        "**Date**: 18/06/2024\n",
        "**Purpose**: Preliminary analysis of corporate cash flows and NPV calculations\n",
        "\n",
        "\n",
        "\n",
        "---\n"
      ]
    }
  ],
  "metadata": {
    "language_info": {
      "name": "python"
    }
  },
  "nbformat": 4,
  "nbformat_minor": 2
}
